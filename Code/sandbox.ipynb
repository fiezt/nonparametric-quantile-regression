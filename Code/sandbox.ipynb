{
 "cells": [
  {
   "cell_type": "code",
   "execution_count": 2,
   "metadata": {
    "collapsed": true
   },
   "outputs": [],
   "source": [
    "import pandas as pd\n",
    "import numpy as np\n",
    "import os"
   ]
  },
  {
   "cell_type": "code",
   "execution_count": 3,
   "metadata": {
    "collapsed": true
   },
   "outputs": [],
   "source": [
    "curr_dir = os.getcwd()\n",
    "data_dir = curr_dir + '/../Data'\n",
    "solar_dir = data_dir + '/Solar'\n",
    "wind_dir = data_dir + '/Wind'\n",
    "price_dir = data_dir + '/Price'\n",
    "load_dir = data_dir + '/Load'"
   ]
  },
  {
   "cell_type": "code",
   "execution_count": null,
   "metadata": {
    "collapsed": true
   },
   "outputs": [],
   "source": [
    "benchmarks = {}\n",
    "features = {}\n",
    "solutions = {}\n",
    "\n",
    "# Walk through directories to get the different files.\n",
    "for root, dirs, files in os.walk(solar_dir):\n",
    "    for fname in files:\n",
    "        if '.csv' in fname:\n",
    "            if 'benchmark' in fname:\n",
    "                benchmarks[fname.split('.')[0]] = pd.read_csv(os.path.join(root, fname))\n",
    "            elif 'predictors' in fname:\n",
    "                predictors[fname.split('.')[0]] = pd.read_csv(os.path.join(root, fname))\n",
    "            elif 'train' in fname:\n",
    "                train[fname.split('.')[0]] = pd.read_csv(os.path.join(root, fname))\n",
    "            elif 'Solution' in fname:\n",
    "                solutions[fname.split('.')[0]] = pd.read_csv(os.path.join(root, fname))   \n",
    "\n",
    "# Number of sets provided.\n",
    "N = len(train)\n",
    "\n",
    "# Testing data.\n",
    "benchmarks = natsorted(benchmarks.items(), key=lambda x: x[0])\n",
    "benchmarks = [item[1] for item in benchmarks]\n",
    "\n",
    "# Given features.\n",
    "predictors = natsorted(predictors.items(), key=lambda x: x[0])\n",
    "predictors = [item[1] for item in predictors]\n",
    "\n",
    "# Training labels.\n",
    "train = natsorted(train.items(), key=lambda x: x[0])\n",
    "train = [item[1] for item in train]\n",
    "\n",
    "# Solution to the test set.\n",
    "solutions = natsorted(solutions.items(), key=lambda x: x[0])\n",
    "solutions = [item[1] for item in solutions]\n",
    "\n",
    "for i in range(N):\n",
    "    predictors[i]['TIMESTAMP'] =  pd.to_datetime(predictors[i]['TIMESTAMP'], format='%Y%m%d %H:%M')\n",
    "    benchmarks[i]['TIMESTAMP'] =  pd.to_datetime(benchmarks[i]['TIMESTAMP'], format='%Y%m%d %H:%M')\n",
    "    train[i]['TIMESTAMP'] =  pd.to_datetime(train[i]['TIMESTAMP'], format='%Y%m%d %H:%M')\n",
    "\n",
    "return benchmarks, predictors, train, solutions"
   ]
  }
 ],
 "metadata": {
  "anaconda-cloud": {},
  "kernelspec": {
   "display_name": "Python [conda root]",
   "language": "python",
   "name": "conda-root-py"
  },
  "language_info": {
   "codemirror_mode": {
    "name": "ipython",
    "version": 2
   },
   "file_extension": ".py",
   "mimetype": "text/x-python",
   "name": "python",
   "nbconvert_exporter": "python",
   "pygments_lexer": "ipython2",
   "version": "2.7.12"
  }
 },
 "nbformat": 4,
 "nbformat_minor": 2
}
